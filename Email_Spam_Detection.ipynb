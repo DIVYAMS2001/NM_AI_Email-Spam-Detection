{
  "nbformat": 4,
  "nbformat_minor": 0,
  "metadata": {
    "colab": {
      "provenance": [],
      "toc_visible": true,
      "include_colab_link": true
    },
    "kernelspec": {
      "name": "python3",
      "display_name": "Python 3"
    },
    "language_info": {
      "name": "python"
    }
  },
  "cells": [
    {
      "cell_type": "markdown",
      "metadata": {
        "id": "view-in-github",
        "colab_type": "text"
      },
      "source": [
        "<a href=\"https://colab.research.google.com/github/DIVYAMS2001/NM_AI_Email-Spam-Detection/blob/main/Email_Spam_Detection.ipynb\" target=\"_parent\"><img src=\"https://colab.research.google.com/assets/colab-badge.svg\" alt=\"Open In Colab\"/></a>"
      ]
    },
    {
      "cell_type": "code",
      "execution_count": null,
      "metadata": {
        "id": "i2CcoPZTJRDN"
      },
      "outputs": [],
      "source": [
        "import warnings\n",
        "warnings.simplefilter('ignore')\n",
        "\n",
        "import numpy as np\n",
        "import pandas as pd\n",
        "import matplotlib.pyplot as plt\n",
        "\n",
        "from sklearn.model_selection import train_test_split\n",
        "from sklearn.feature_extraction.text import TfidfVectorizer\n",
        "\n",
        "from sklearn.metrics import accuracy_score\n",
        "from sklearn.metrics import precision_score\n",
        "from sklearn.metrics import recall_score\n",
        "from sklearn.metrics import f1_score"
      ]
    },
    {
      "cell_type": "code",
      "source": [
        "from sklearn.linear_model import LogisticRegression\n",
        "from sklearn.tree import DecisionTreeClassifier\n",
        "from sklearn.svm import SVC\n",
        "from sklearn.neighbors import KNeighborsClassifier\n",
        "from sklearn.ensemble import RandomForestClassifier\n",
        "\n",
        "from sklearn.ensemble import StackingClassifier"
      ],
      "metadata": {
        "id": "sFYx1szGJ2mg"
      },
      "execution_count": null,
      "outputs": []
    },
    {
      "cell_type": "code",
      "source": [
        "df =  pd.read_csv(r\"/content/SPAM.csv\")\n",
        "df"
      ],
      "metadata": {
        "colab": {
          "base_uri": "https://localhost:8080/",
          "height": 424
        },
        "id": "D9sqzo7wJ5_b",
        "outputId": "ab74f303-af67-4675-a1ab-af3a36708011"
      },
      "execution_count": null,
      "outputs": [
        {
          "output_type": "execute_result",
          "data": {
            "text/plain": [
              "     Category                                            Message Unnamed: 2  \\\n",
              "0         ham  Go until jurong point, crazy.. Available only ...        NaN   \n",
              "1         ham                      Ok lar... Joking wif u oni...        NaN   \n",
              "2        spam  Free entry in 2 a wkly comp to win FA Cup fina...        NaN   \n",
              "3         ham  U dun say so early hor... U c already then say...        NaN   \n",
              "4         ham  Nah I don't think he goes to usf, he lives aro...        NaN   \n",
              "...       ...                                                ...        ...   \n",
              "5567     spam  This is the 2nd time we have tried 2 contact u...        NaN   \n",
              "5568      ham              Will Ì_ b going to esplanade fr home?        NaN   \n",
              "5569      ham  Pity, * was in mood for that. So...any other s...        NaN   \n",
              "5570      ham  The guy did some bitching but I acted like i'd...        NaN   \n",
              "5571      ham                         Rofl. Its true to its name        NaN   \n",
              "\n",
              "     Unnamed: 3 Unnamed: 4  \n",
              "0           NaN        NaN  \n",
              "1           NaN        NaN  \n",
              "2           NaN        NaN  \n",
              "3           NaN        NaN  \n",
              "4           NaN        NaN  \n",
              "...         ...        ...  \n",
              "5567        NaN        NaN  \n",
              "5568        NaN        NaN  \n",
              "5569        NaN        NaN  \n",
              "5570        NaN        NaN  \n",
              "5571        NaN        NaN  \n",
              "\n",
              "[5572 rows x 5 columns]"
            ],
            "text/html": [
              "\n",
              "  <div id=\"df-79f92999-0b8e-4c2d-b2a3-68f56a68c6a0\" class=\"colab-df-container\">\n",
              "    <div>\n",
              "<style scoped>\n",
              "    .dataframe tbody tr th:only-of-type {\n",
              "        vertical-align: middle;\n",
              "    }\n",
              "\n",
              "    .dataframe tbody tr th {\n",
              "        vertical-align: top;\n",
              "    }\n",
              "\n",
              "    .dataframe thead th {\n",
              "        text-align: right;\n",
              "    }\n",
              "</style>\n",
              "<table border=\"1\" class=\"dataframe\">\n",
              "  <thead>\n",
              "    <tr style=\"text-align: right;\">\n",
              "      <th></th>\n",
              "      <th>Category</th>\n",
              "      <th>Message</th>\n",
              "      <th>Unnamed: 2</th>\n",
              "      <th>Unnamed: 3</th>\n",
              "      <th>Unnamed: 4</th>\n",
              "    </tr>\n",
              "  </thead>\n",
              "  <tbody>\n",
              "    <tr>\n",
              "      <th>0</th>\n",
              "      <td>ham</td>\n",
              "      <td>Go until jurong point, crazy.. Available only ...</td>\n",
              "      <td>NaN</td>\n",
              "      <td>NaN</td>\n",
              "      <td>NaN</td>\n",
              "    </tr>\n",
              "    <tr>\n",
              "      <th>1</th>\n",
              "      <td>ham</td>\n",
              "      <td>Ok lar... Joking wif u oni...</td>\n",
              "      <td>NaN</td>\n",
              "      <td>NaN</td>\n",
              "      <td>NaN</td>\n",
              "    </tr>\n",
              "    <tr>\n",
              "      <th>2</th>\n",
              "      <td>spam</td>\n",
              "      <td>Free entry in 2 a wkly comp to win FA Cup fina...</td>\n",
              "      <td>NaN</td>\n",
              "      <td>NaN</td>\n",
              "      <td>NaN</td>\n",
              "    </tr>\n",
              "    <tr>\n",
              "      <th>3</th>\n",
              "      <td>ham</td>\n",
              "      <td>U dun say so early hor... U c already then say...</td>\n",
              "      <td>NaN</td>\n",
              "      <td>NaN</td>\n",
              "      <td>NaN</td>\n",
              "    </tr>\n",
              "    <tr>\n",
              "      <th>4</th>\n",
              "      <td>ham</td>\n",
              "      <td>Nah I don't think he goes to usf, he lives aro...</td>\n",
              "      <td>NaN</td>\n",
              "      <td>NaN</td>\n",
              "      <td>NaN</td>\n",
              "    </tr>\n",
              "    <tr>\n",
              "      <th>...</th>\n",
              "      <td>...</td>\n",
              "      <td>...</td>\n",
              "      <td>...</td>\n",
              "      <td>...</td>\n",
              "      <td>...</td>\n",
              "    </tr>\n",
              "    <tr>\n",
              "      <th>5567</th>\n",
              "      <td>spam</td>\n",
              "      <td>This is the 2nd time we have tried 2 contact u...</td>\n",
              "      <td>NaN</td>\n",
              "      <td>NaN</td>\n",
              "      <td>NaN</td>\n",
              "    </tr>\n",
              "    <tr>\n",
              "      <th>5568</th>\n",
              "      <td>ham</td>\n",
              "      <td>Will Ì_ b going to esplanade fr home?</td>\n",
              "      <td>NaN</td>\n",
              "      <td>NaN</td>\n",
              "      <td>NaN</td>\n",
              "    </tr>\n",
              "    <tr>\n",
              "      <th>5569</th>\n",
              "      <td>ham</td>\n",
              "      <td>Pity, * was in mood for that. So...any other s...</td>\n",
              "      <td>NaN</td>\n",
              "      <td>NaN</td>\n",
              "      <td>NaN</td>\n",
              "    </tr>\n",
              "    <tr>\n",
              "      <th>5570</th>\n",
              "      <td>ham</td>\n",
              "      <td>The guy did some bitching but I acted like i'd...</td>\n",
              "      <td>NaN</td>\n",
              "      <td>NaN</td>\n",
              "      <td>NaN</td>\n",
              "    </tr>\n",
              "    <tr>\n",
              "      <th>5571</th>\n",
              "      <td>ham</td>\n",
              "      <td>Rofl. Its true to its name</td>\n",
              "      <td>NaN</td>\n",
              "      <td>NaN</td>\n",
              "      <td>NaN</td>\n",
              "    </tr>\n",
              "  </tbody>\n",
              "</table>\n",
              "<p>5572 rows × 5 columns</p>\n",
              "</div>\n",
              "    <div class=\"colab-df-buttons\">\n",
              "\n",
              "  <div class=\"colab-df-container\">\n",
              "    <button class=\"colab-df-convert\" onclick=\"convertToInteractive('df-79f92999-0b8e-4c2d-b2a3-68f56a68c6a0')\"\n",
              "            title=\"Convert this dataframe to an interactive table.\"\n",
              "            style=\"display:none;\">\n",
              "\n",
              "  <svg xmlns=\"http://www.w3.org/2000/svg\" height=\"24px\" viewBox=\"0 -960 960 960\">\n",
              "    <path d=\"M120-120v-720h720v720H120Zm60-500h600v-160H180v160Zm220 220h160v-160H400v160Zm0 220h160v-160H400v160ZM180-400h160v-160H180v160Zm440 0h160v-160H620v160ZM180-180h160v-160H180v160Zm440 0h160v-160H620v160Z\"/>\n",
              "  </svg>\n",
              "    </button>\n",
              "\n",
              "  <style>\n",
              "    .colab-df-container {\n",
              "      display:flex;\n",
              "      gap: 12px;\n",
              "    }\n",
              "\n",
              "    .colab-df-convert {\n",
              "      background-color: #E8F0FE;\n",
              "      border: none;\n",
              "      border-radius: 50%;\n",
              "      cursor: pointer;\n",
              "      display: none;\n",
              "      fill: #1967D2;\n",
              "      height: 32px;\n",
              "      padding: 0 0 0 0;\n",
              "      width: 32px;\n",
              "    }\n",
              "\n",
              "    .colab-df-convert:hover {\n",
              "      background-color: #E2EBFA;\n",
              "      box-shadow: 0px 1px 2px rgba(60, 64, 67, 0.3), 0px 1px 3px 1px rgba(60, 64, 67, 0.15);\n",
              "      fill: #174EA6;\n",
              "    }\n",
              "\n",
              "    .colab-df-buttons div {\n",
              "      margin-bottom: 4px;\n",
              "    }\n",
              "\n",
              "    [theme=dark] .colab-df-convert {\n",
              "      background-color: #3B4455;\n",
              "      fill: #D2E3FC;\n",
              "    }\n",
              "\n",
              "    [theme=dark] .colab-df-convert:hover {\n",
              "      background-color: #434B5C;\n",
              "      box-shadow: 0px 1px 3px 1px rgba(0, 0, 0, 0.15);\n",
              "      filter: drop-shadow(0px 1px 2px rgba(0, 0, 0, 0.3));\n",
              "      fill: #FFFFFF;\n",
              "    }\n",
              "  </style>\n",
              "\n",
              "    <script>\n",
              "      const buttonEl =\n",
              "        document.querySelector('#df-79f92999-0b8e-4c2d-b2a3-68f56a68c6a0 button.colab-df-convert');\n",
              "      buttonEl.style.display =\n",
              "        google.colab.kernel.accessAllowed ? 'block' : 'none';\n",
              "\n",
              "      async function convertToInteractive(key) {\n",
              "        const element = document.querySelector('#df-79f92999-0b8e-4c2d-b2a3-68f56a68c6a0');\n",
              "        const dataTable =\n",
              "          await google.colab.kernel.invokeFunction('convertToInteractive',\n",
              "                                                    [key], {});\n",
              "        if (!dataTable) return;\n",
              "\n",
              "        const docLinkHtml = 'Like what you see? Visit the ' +\n",
              "          '<a target=\"_blank\" href=https://colab.research.google.com/notebooks/data_table.ipynb>data table notebook</a>'\n",
              "          + ' to learn more about interactive tables.';\n",
              "        element.innerHTML = '';\n",
              "        dataTable['output_type'] = 'display_data';\n",
              "        await google.colab.output.renderOutput(dataTable, element);\n",
              "        const docLink = document.createElement('div');\n",
              "        docLink.innerHTML = docLinkHtml;\n",
              "        element.appendChild(docLink);\n",
              "      }\n",
              "    </script>\n",
              "  </div>\n",
              "\n",
              "\n",
              "<div id=\"df-5d67dc87-f040-47ec-a63a-eba8b1c7e4a7\">\n",
              "  <button class=\"colab-df-quickchart\" onclick=\"quickchart('df-5d67dc87-f040-47ec-a63a-eba8b1c7e4a7')\"\n",
              "            title=\"Suggest charts\"\n",
              "            style=\"display:none;\">\n",
              "\n",
              "<svg xmlns=\"http://www.w3.org/2000/svg\" height=\"24px\"viewBox=\"0 0 24 24\"\n",
              "     width=\"24px\">\n",
              "    <g>\n",
              "        <path d=\"M19 3H5c-1.1 0-2 .9-2 2v14c0 1.1.9 2 2 2h14c1.1 0 2-.9 2-2V5c0-1.1-.9-2-2-2zM9 17H7v-7h2v7zm4 0h-2V7h2v10zm4 0h-2v-4h2v4z\"/>\n",
              "    </g>\n",
              "</svg>\n",
              "  </button>\n",
              "\n",
              "<style>\n",
              "  .colab-df-quickchart {\n",
              "      --bg-color: #E8F0FE;\n",
              "      --fill-color: #1967D2;\n",
              "      --hover-bg-color: #E2EBFA;\n",
              "      --hover-fill-color: #174EA6;\n",
              "      --disabled-fill-color: #AAA;\n",
              "      --disabled-bg-color: #DDD;\n",
              "  }\n",
              "\n",
              "  [theme=dark] .colab-df-quickchart {\n",
              "      --bg-color: #3B4455;\n",
              "      --fill-color: #D2E3FC;\n",
              "      --hover-bg-color: #434B5C;\n",
              "      --hover-fill-color: #FFFFFF;\n",
              "      --disabled-bg-color: #3B4455;\n",
              "      --disabled-fill-color: #666;\n",
              "  }\n",
              "\n",
              "  .colab-df-quickchart {\n",
              "    background-color: var(--bg-color);\n",
              "    border: none;\n",
              "    border-radius: 50%;\n",
              "    cursor: pointer;\n",
              "    display: none;\n",
              "    fill: var(--fill-color);\n",
              "    height: 32px;\n",
              "    padding: 0;\n",
              "    width: 32px;\n",
              "  }\n",
              "\n",
              "  .colab-df-quickchart:hover {\n",
              "    background-color: var(--hover-bg-color);\n",
              "    box-shadow: 0 1px 2px rgba(60, 64, 67, 0.3), 0 1px 3px 1px rgba(60, 64, 67, 0.15);\n",
              "    fill: var(--button-hover-fill-color);\n",
              "  }\n",
              "\n",
              "  .colab-df-quickchart-complete:disabled,\n",
              "  .colab-df-quickchart-complete:disabled:hover {\n",
              "    background-color: var(--disabled-bg-color);\n",
              "    fill: var(--disabled-fill-color);\n",
              "    box-shadow: none;\n",
              "  }\n",
              "\n",
              "  .colab-df-spinner {\n",
              "    border: 2px solid var(--fill-color);\n",
              "    border-color: transparent;\n",
              "    border-bottom-color: var(--fill-color);\n",
              "    animation:\n",
              "      spin 1s steps(1) infinite;\n",
              "  }\n",
              "\n",
              "  @keyframes spin {\n",
              "    0% {\n",
              "      border-color: transparent;\n",
              "      border-bottom-color: var(--fill-color);\n",
              "      border-left-color: var(--fill-color);\n",
              "    }\n",
              "    20% {\n",
              "      border-color: transparent;\n",
              "      border-left-color: var(--fill-color);\n",
              "      border-top-color: var(--fill-color);\n",
              "    }\n",
              "    30% {\n",
              "      border-color: transparent;\n",
              "      border-left-color: var(--fill-color);\n",
              "      border-top-color: var(--fill-color);\n",
              "      border-right-color: var(--fill-color);\n",
              "    }\n",
              "    40% {\n",
              "      border-color: transparent;\n",
              "      border-right-color: var(--fill-color);\n",
              "      border-top-color: var(--fill-color);\n",
              "    }\n",
              "    60% {\n",
              "      border-color: transparent;\n",
              "      border-right-color: var(--fill-color);\n",
              "    }\n",
              "    80% {\n",
              "      border-color: transparent;\n",
              "      border-right-color: var(--fill-color);\n",
              "      border-bottom-color: var(--fill-color);\n",
              "    }\n",
              "    90% {\n",
              "      border-color: transparent;\n",
              "      border-bottom-color: var(--fill-color);\n",
              "    }\n",
              "  }\n",
              "</style>\n",
              "\n",
              "  <script>\n",
              "    async function quickchart(key) {\n",
              "      const quickchartButtonEl =\n",
              "        document.querySelector('#' + key + ' button');\n",
              "      quickchartButtonEl.disabled = true;  // To prevent multiple clicks.\n",
              "      quickchartButtonEl.classList.add('colab-df-spinner');\n",
              "      try {\n",
              "        const charts = await google.colab.kernel.invokeFunction(\n",
              "            'suggestCharts', [key], {});\n",
              "      } catch (error) {\n",
              "        console.error('Error during call to suggestCharts:', error);\n",
              "      }\n",
              "      quickchartButtonEl.classList.remove('colab-df-spinner');\n",
              "      quickchartButtonEl.classList.add('colab-df-quickchart-complete');\n",
              "    }\n",
              "    (() => {\n",
              "      let quickchartButtonEl =\n",
              "        document.querySelector('#df-5d67dc87-f040-47ec-a63a-eba8b1c7e4a7 button');\n",
              "      quickchartButtonEl.style.display =\n",
              "        google.colab.kernel.accessAllowed ? 'block' : 'none';\n",
              "    })();\n",
              "  </script>\n",
              "</div>\n",
              "    </div>\n",
              "  </div>\n"
            ],
            "application/vnd.google.colaboratory.intrinsic+json": {
              "type": "dataframe",
              "variable_name": "df",
              "summary": "{\n  \"name\": \"df\",\n  \"rows\": 5572,\n  \"fields\": [\n    {\n      \"column\": \"Category\",\n      \"properties\": {\n        \"dtype\": \"category\",\n        \"num_unique_values\": 2,\n        \"samples\": [\n          \"spam\",\n          \"ham\"\n        ],\n        \"semantic_type\": \"\",\n        \"description\": \"\"\n      }\n    },\n    {\n      \"column\": \"Message\",\n      \"properties\": {\n        \"dtype\": \"string\",\n        \"num_unique_values\": 5169,\n        \"samples\": [\n          \"Did u download the fring app?\",\n          \"Pass dis to all ur contacts n see wat u get! Red;i'm in luv wid u. Blue;u put a smile on my face. Purple;u r realy hot. Pink;u r so swt. Orange;i thnk i lyk u. Green;i realy wana go out wid u. Yelow;i wnt u bck. Black;i'm jealous of u. Brown;i miss you Nw plz giv me one color\"\n        ],\n        \"semantic_type\": \"\",\n        \"description\": \"\"\n      }\n    },\n    {\n      \"column\": \"Unnamed: 2\",\n      \"properties\": {\n        \"dtype\": \"category\",\n        \"num_unique_values\": 43,\n        \"samples\": [\n          \" GOD said\",\n          \" SHE SHUDVETOLD U. DID URGRAN KNOW?NEWAY\"\n        ],\n        \"semantic_type\": \"\",\n        \"description\": \"\"\n      }\n    },\n    {\n      \"column\": \"Unnamed: 3\",\n      \"properties\": {\n        \"dtype\": \"category\",\n        \"num_unique_values\": 10,\n        \"samples\": [\n          \" \\\\\\\"OH No! COMPETITION\\\\\\\". Who knew\",\n          \" why to miss them\"\n        ],\n        \"semantic_type\": \"\",\n        \"description\": \"\"\n      }\n    },\n    {\n      \"column\": \"Unnamed: 4\",\n      \"properties\": {\n        \"dtype\": \"category\",\n        \"num_unique_values\": 5,\n        \"samples\": [\n          \"GNT:-)\\\"\",\n          \" one day these two will become FREINDS FOREVER!\\\"\"\n        ],\n        \"semantic_type\": \"\",\n        \"description\": \"\"\n      }\n    }\n  ]\n}"
            }
          },
          "metadata": {},
          "execution_count": 72
        }
      ]
    },
    {
      "cell_type": "code",
      "source": [
        "data = df.drop(labels=['Unnamed: 2', 'Unnamed: 3', 'Unnamed: 4'], axis=1)"
      ],
      "metadata": {
        "id": "ongVdR-dKJdY"
      },
      "execution_count": null,
      "outputs": []
    },
    {
      "cell_type": "code",
      "source": [
        "data.isnull().sum()"
      ],
      "metadata": {
        "colab": {
          "base_uri": "https://localhost:8080/"
        },
        "id": "2eG4d05MKKnt",
        "outputId": "2ccd602f-695c-434f-81b7-ebc6aaa66ff7"
      },
      "execution_count": null,
      "outputs": [
        {
          "output_type": "execute_result",
          "data": {
            "text/plain": [
              "Category    0\n",
              "Message     0\n",
              "dtype: int64"
            ]
          },
          "metadata": {},
          "execution_count": 74
        }
      ]
    },
    {
      "cell_type": "code",
      "source": [
        "data.dtypes"
      ],
      "metadata": {
        "colab": {
          "base_uri": "https://localhost:8080/"
        },
        "id": "PIrD7vdzKW4P",
        "outputId": "87d328fe-2979-4e7b-e88a-17cd4ee92020"
      },
      "execution_count": null,
      "outputs": [
        {
          "output_type": "execute_result",
          "data": {
            "text/plain": [
              "Category    object\n",
              "Message     object\n",
              "dtype: object"
            ]
          },
          "metadata": {},
          "execution_count": 75
        }
      ]
    },
    {
      "cell_type": "code",
      "source": [
        "data.loc[data['Category'] == 'spam', 'Category',] = 0\n",
        "data.loc[data['Category'] == 'ham', 'Category',] = 1"
      ],
      "metadata": {
        "id": "Wcc9e_R_KaND"
      },
      "execution_count": null,
      "outputs": []
    },
    {
      "cell_type": "code",
      "source": [
        "data['Category'].value_counts()"
      ],
      "metadata": {
        "colab": {
          "base_uri": "https://localhost:8080/"
        },
        "id": "BnG2NkOfKcXe",
        "outputId": "b17d4edf-3de3-4d35-8474-81d9622803e4"
      },
      "execution_count": null,
      "outputs": [
        {
          "output_type": "execute_result",
          "data": {
            "text/plain": [
              "Category\n",
              "1    4825\n",
              "0     747\n",
              "Name: count, dtype: int64"
            ]
          },
          "metadata": {},
          "execution_count": 77
        }
      ]
    },
    {
      "cell_type": "code",
      "source": [
        "X = data['Message']\n",
        "\n",
        "Y = data['Category']"
      ],
      "metadata": {
        "id": "vwhWEUttKeeN"
      },
      "execution_count": null,
      "outputs": []
    },
    {
      "cell_type": "code",
      "source": [
        "X"
      ],
      "metadata": {
        "colab": {
          "base_uri": "https://localhost:8080/"
        },
        "id": "EjhExUJ2KhBC",
        "outputId": "8ebe01b8-048e-4fdb-b15a-5c23192860fa"
      },
      "execution_count": null,
      "outputs": [
        {
          "output_type": "execute_result",
          "data": {
            "text/plain": [
              "0       Go until jurong point, crazy.. Available only ...\n",
              "1                           Ok lar... Joking wif u oni...\n",
              "2       Free entry in 2 a wkly comp to win FA Cup fina...\n",
              "3       U dun say so early hor... U c already then say...\n",
              "4       Nah I don't think he goes to usf, he lives aro...\n",
              "                              ...                        \n",
              "5567    This is the 2nd time we have tried 2 contact u...\n",
              "5568                Will Ì_ b going to esplanade fr home?\n",
              "5569    Pity, * was in mood for that. So...any other s...\n",
              "5570    The guy did some bitching but I acted like i'd...\n",
              "5571                           Rofl. Its true to its name\n",
              "Name: Message, Length: 5572, dtype: object"
            ]
          },
          "metadata": {},
          "execution_count": 79
        }
      ]
    },
    {
      "cell_type": "code",
      "source": [
        "Y"
      ],
      "metadata": {
        "colab": {
          "base_uri": "https://localhost:8080/"
        },
        "id": "9W9EBCWhKhDU",
        "outputId": "1f16bfbf-50f0-4398-871d-85ff78e93682"
      },
      "execution_count": null,
      "outputs": [
        {
          "output_type": "execute_result",
          "data": {
            "text/plain": [
              "0       1\n",
              "1       1\n",
              "2       0\n",
              "3       1\n",
              "4       1\n",
              "       ..\n",
              "5567    0\n",
              "5568    1\n",
              "5569    1\n",
              "5570    1\n",
              "5571    1\n",
              "Name: Category, Length: 5572, dtype: object"
            ]
          },
          "metadata": {},
          "execution_count": 80
        }
      ]
    },
    {
      "cell_type": "code",
      "source": [
        "X_train, X_test, Y_train, Y_test = train_test_split(X, Y, test_size=0.2, random_state=3)"
      ],
      "metadata": {
        "id": "BYw1IoI9KhGD"
      },
      "execution_count": null,
      "outputs": []
    },
    {
      "cell_type": "code",
      "source": [
        "print(X.shape)\n",
        "print(X_train.shape)\n",
        "print(X_test.shape)"
      ],
      "metadata": {
        "colab": {
          "base_uri": "https://localhost:8080/"
        },
        "id": "oRAGrUQzKhI3",
        "outputId": "363ee113-fb3a-4060-efc5-82622110b743"
      },
      "execution_count": null,
      "outputs": [
        {
          "output_type": "stream",
          "name": "stdout",
          "text": [
            "(5572,)\n",
            "(4457,)\n",
            "(1115,)\n"
          ]
        }
      ]
    },
    {
      "cell_type": "code",
      "source": [
        "feature_extraction = TfidfVectorizer(min_df=1, stop_words='english', lowercase=True)\n"
      ],
      "metadata": {
        "id": "zF0ULUO7KhLx"
      },
      "execution_count": null,
      "outputs": []
    },
    {
      "cell_type": "code",
      "source": [
        "X_train_features = feature_extraction.fit_transform(X_train)\n",
        "X_test_features = feature_extraction.transform(X_test)"
      ],
      "metadata": {
        "id": "THHJ9BMZMpnc"
      },
      "execution_count": null,
      "outputs": []
    },
    {
      "cell_type": "code",
      "source": [
        "Y_train = Y_train.astype('int')\n",
        "Y_test = Y_test.astype('int')"
      ],
      "metadata": {
        "id": "oTzkSkgLKhRg"
      },
      "execution_count": null,
      "outputs": []
    },
    {
      "cell_type": "markdown",
      "source": [
        "**LOGISTIC REGRESSION**"
      ],
      "metadata": {
        "id": "E3hQjWADK1JF"
      }
    },
    {
      "cell_type": "code",
      "source": [
        "lr = LogisticRegression()\n",
        "lr.fit(X_train_features, Y_train)\n",
        "\n",
        "\n",
        "lr_train = lr.predict(X_train_features)\n",
        "lr_test = lr.predict(X_test_features)\n",
        "\n",
        "\n",
        "lr_train_acc = accuracy_score(Y_train, lr_train)\n",
        "lr_test_acc = accuracy_score(Y_test, lr_test)\n",
        "\n",
        "\n",
        "lr_precision = precision_score(Y_test, lr_test)\n",
        "lr_recall = recall_score(Y_test, lr_test)\n",
        "lr_f1 = f1_score(Y_test, lr_test)\n",
        "\n",
        "\n",
        "print(\"Logistic Regression:\\n\")\n",
        "print(\"Training Data Accuracy:\", lr_train_acc)\n",
        "print(\"Testing Data Accuracy :\", lr_test_acc)\n",
        "\n",
        "print(\"Precision             :\", lr_precision)\n",
        "print(\"Recall                :\", lr_recall)\n",
        "print(\"F1 Score              :\", lr_f1)"
      ],
      "metadata": {
        "colab": {
          "base_uri": "https://localhost:8080/"
        },
        "id": "uO84dif5KhU5",
        "outputId": "d3812f77-3d30-450e-e4ab-06dbd4a7cc88"
      },
      "execution_count": null,
      "outputs": [
        {
          "output_type": "stream",
          "name": "stdout",
          "text": [
            "Logistic Regression:\n",
            "\n",
            "Training Data Accuracy: 0.9661207089970832\n",
            "Testing Data Accuracy : 0.9623318385650225\n",
            "Precision             : 0.959\n",
            "Recall                : 0.9989583333333333\n",
            "F1 Score              : 0.9785714285714285\n"
          ]
        }
      ]
    },
    {
      "cell_type": "markdown",
      "source": [
        "**DECISION TREES**"
      ],
      "metadata": {
        "id": "c_LBeY1KK5_8"
      }
    },
    {
      "cell_type": "code",
      "source": [
        "dtrees = DecisionTreeClassifier()\n",
        "dtrees.fit(X_train_features, Y_train)\n",
        "\n",
        "\n",
        "dt_train = dtrees.predict(X_train_features)\n",
        "dt_test = dtrees.predict(X_test_features)\n",
        "\n",
        "\n",
        "dt_train_acc = accuracy_score(Y_train, dt_train)\n",
        "dt_test_acc = accuracy_score(Y_test, dt_test)\n",
        "\n",
        "\n",
        "dt_precision = precision_score(Y_test, dt_test)\n",
        "dt_recall = recall_score(Y_test, dt_test)\n",
        "dt_f1 = f1_score(Y_test, dt_test)\n",
        "\n",
        "\n",
        "print(\"Decision Tress:\\n\")\n",
        "print(\"Training Data Accuracy:\", dt_train_acc)\n",
        "print(\"Testing Data Accuracy :\", dt_test_acc)\n",
        "\n",
        "print(\"Precision             :\", dt_precision)\n",
        "print(\"Recall                :\", dt_recall)\n",
        "print(\"F1 Score              :\", dt_f1)"
      ],
      "metadata": {
        "colab": {
          "base_uri": "https://localhost:8080/"
        },
        "id": "1dhnZMV6LARL",
        "outputId": "0d1fc6b0-3aa3-4a8a-c551-cf5cc7d2c87b"
      },
      "execution_count": null,
      "outputs": [
        {
          "output_type": "stream",
          "name": "stdout",
          "text": [
            "Decision Tress:\n",
            "\n",
            "Training Data Accuracy: 1.0\n",
            "Testing Data Accuracy : 0.9668161434977578\n",
            "Precision             : 0.9733333333333334\n",
            "Recall                : 0.9885416666666667\n",
            "F1 Score              : 0.9808785529715762\n"
          ]
        }
      ]
    },
    {
      "cell_type": "markdown",
      "source": [
        "**K NEAREST NEIGHBORS**"
      ],
      "metadata": {
        "id": "PFf4SRoQLMSK"
      }
    },
    {
      "cell_type": "code",
      "source": [
        "knn = KNeighborsClassifier()\n",
        "knn.fit(X_train_features, Y_train)\n",
        "\n",
        "\n",
        "knn_train = knn.predict(X_train_features)\n",
        "knn_test = knn.predict(X_test_features)\n",
        "\n",
        "\n",
        "knn_train_acc = accuracy_score(Y_train, knn_train)\n",
        "knn_test_acc = accuracy_score(Y_test, knn_test)\n",
        "\n",
        "\n",
        "knn_precision = precision_score(Y_test, knn_test)\n",
        "knn_recall = recall_score(Y_test, knn_test)\n",
        "knn_f1 = f1_score(Y_test, knn_test)\n",
        "\n",
        "\n",
        "print(\"K Nearest Neighbors:\\n\")\n",
        "print(\"Training Data Accuracy:\", knn_train_acc)\n",
        "print(\"Testing Data Accuracy :\", knn_test_acc)\n",
        "\n",
        "print(\"Precision             :\", knn_precision)\n",
        "print(\"Recall                :\", knn_recall)\n",
        "print(\"F1 Score              :\", knn_f1)"
      ],
      "metadata": {
        "colab": {
          "base_uri": "https://localhost:8080/"
        },
        "id": "VkO1IXGHLBxA",
        "outputId": "63c66893-b9cb-44ab-e89b-eef3d215f51b"
      },
      "execution_count": null,
      "outputs": [
        {
          "output_type": "stream",
          "name": "stdout",
          "text": [
            "K Nearest Neighbors:\n",
            "\n",
            "Training Data Accuracy: 0.9199012788871438\n",
            "Testing Data Accuracy : 0.905829596412556\n",
            "Precision             : 0.9014084507042254\n",
            "Recall                : 1.0\n",
            "F1 Score              : 0.9481481481481481\n"
          ]
        }
      ]
    },
    {
      "cell_type": "markdown",
      "source": [
        "**RANDOM FOREST**"
      ],
      "metadata": {
        "id": "ibN0HHTZLS3C"
      }
    },
    {
      "cell_type": "code",
      "source": [
        "rf = RandomForestClassifier()\n",
        "rf.fit(X_train_features, Y_train)\n",
        "\n",
        "\n",
        "rf_train = rf.predict(X_train_features)\n",
        "rf_test = rf.predict(X_test_features)\n",
        "\n",
        "\n",
        "rf_train_acc = accuracy_score(Y_train, rf_train)\n",
        "rf_test_acc = accuracy_score(Y_test, rf_test)\n",
        "\n",
        "\n",
        "rf_precision = precision_score(Y_test, rf_test)\n",
        "rf_recall = recall_score(Y_test, rf_test)\n",
        "rf_f1 = f1_score(Y_test, rf_test)\n",
        "\n",
        "\n",
        "print(\"Random Forest:\\n\")\n",
        "print(\"Training Data Accuracy:\", rf_train_acc)\n",
        "print(\"Testing Data Accuracy :\", rf_test_acc)\n",
        "\n",
        "print(\"Precision             :\", rf_precision)\n",
        "print(\"Recall                :\", rf_recall)\n",
        "print(\"F1 Score              :\", rf_f1)"
      ],
      "metadata": {
        "colab": {
          "base_uri": "https://localhost:8080/"
        },
        "id": "IBmQcuO1LQFD",
        "outputId": "db69b814-13b6-4080-c6bb-f68f6fd25433"
      },
      "execution_count": null,
      "outputs": [
        {
          "output_type": "stream",
          "name": "stdout",
          "text": [
            "Random Forest:\n",
            "\n",
            "Training Data Accuracy: 1.0\n",
            "Testing Data Accuracy : 0.9775784753363229\n",
            "Precision             : 0.9755849440488301\n",
            "Recall                : 0.9989583333333333\n",
            "F1 Score              : 0.9871332990221307\n"
          ]
        }
      ]
    },
    {
      "cell_type": "markdown",
      "source": [
        "**STACKING MODEL**"
      ],
      "metadata": {
        "id": "To5fVkSlLV-u"
      }
    },
    {
      "cell_type": "code",
      "source": [
        "estimators = [ ('lr', lr), ('dtree', dtrees), ('knn', knn), ('rf', rf) ]\n",
        "stack = StackingClassifier(estimators, final_estimator = SVC(kernel='linear'))\n",
        "stack.fit(X_train_features, Y_train)\n",
        "\n",
        "\n",
        "stack_train = stack.predict(X_train_features)\n",
        "stack_test = stack.predict(X_test_features)\n",
        "\n",
        "\n",
        "stack_train_acc = accuracy_score(Y_train, stack_train)\n",
        "stack_test_acc = accuracy_score(Y_test, stack_test)\n",
        "\n",
        "\n",
        "stack_precision = precision_score(Y_test, stack_test)\n",
        "stack_recall = recall_score(Y_test, stack_test)\n",
        "stack_f1 = f1_score(Y_test, stack_test)\n",
        "\n",
        "\n",
        "print(\"Stacking Classifier:\\n\")\n",
        "print(\"Training Data Accuracy:\", stack_train_acc)\n",
        "print(\"Testing Data Accuracy :\", stack_test_acc)\n",
        "\n",
        "print(\"Precision             :\", stack_precision)\n",
        "print(\"Recall                :\", stack_recall)\n",
        "print(\"F1 Score              :\", stack_f1)"
      ],
      "metadata": {
        "colab": {
          "base_uri": "https://localhost:8080/"
        },
        "id": "XKdRi5M-LY48",
        "outputId": "cd663950-be8f-4bf6-9bac-c50ce83b6f46"
      },
      "execution_count": null,
      "outputs": [
        {
          "output_type": "stream",
          "name": "stdout",
          "text": [
            "Stacking Classifier:\n",
            "\n",
            "Training Data Accuracy: 0.9995512676688355\n",
            "Testing Data Accuracy : 0.9856502242152466\n",
            "Precision             : 0.98659793814433\n",
            "Recall                : 0.996875\n",
            "F1 Score              : 0.9917098445595856\n"
          ]
        }
      ]
    },
    {
      "cell_type": "markdown",
      "source": [
        "**Metrics Visualization**"
      ],
      "metadata": {
        "id": "3vo6t3OhLbt1"
      }
    },
    {
      "cell_type": "markdown",
      "source": [],
      "metadata": {
        "id": "YdALOdd0Lfmn"
      }
    },
    {
      "cell_type": "code",
      "source": [
        "train_acc_list = {\"LR\":lr_train_acc,\n",
        "                  \"DT\":dt_train_acc,\n",
        "                  \"KNN\":knn_train_acc,\n",
        "                  \"RF\":rf_train_acc,\n",
        "                  \"STACK\":stack_train_acc}\n",
        "\n",
        "test_acc_list = {\"LR\":lr_test_acc,\n",
        "                  \"DT\":dt_test_acc,\n",
        "                  \"KNN\":knn_test_acc,\n",
        "                  \"RF\":rf_test_acc,\n",
        "                  \"STACK\":stack_test_acc}\n",
        "\n",
        "precision_list = {\"LR\":lr_precision,\n",
        "                  \"DT\":dt_precision,\n",
        "                  \"KNN\":knn_precision,\n",
        "                  \"RF\":rf_precision,\n",
        "                  \"STACK\":stack_precision}\n",
        "\n",
        "recall_list = {\"LR\":lr_recall,\n",
        "               \"DT\":dt_recall,\n",
        "               \"KNN\":knn_recall,\n",
        "               \"RF\":rf_recall,\n",
        "               \"STACK\":stack_recall}\n",
        "\n",
        "f1_list = {\"LR\":lr_f1,\n",
        "               \"DT\":dt_f1,\n",
        "               \"KNN\":knn_f1,\n",
        "               \"RF\":rf_f1,\n",
        "               \"STACK\":stack_f1}"
      ],
      "metadata": {
        "id": "Gz-4HaVKLg9L"
      },
      "execution_count": null,
      "outputs": []
    },
    {
      "cell_type": "code",
      "source": [
        "a1 =  pd.DataFrame.from_dict(train_acc_list, orient = 'index', columns = [\"Traning Accuracy\"])\n",
        "a2 =  pd.DataFrame.from_dict(test_acc_list, orient = 'index', columns = [\"Testing Accuracy\"])\n",
        "a3 =  pd.DataFrame.from_dict(precision_list, orient = 'index', columns = [\"Precision Score\"])\n",
        "a4 =  pd.DataFrame.from_dict(recall_list, orient = 'index', columns = [\"Recall Score\"])\n",
        "a5 =  pd.DataFrame.from_dict(f1_list, orient = 'index', columns = [\"F1 Score\"])\n",
        "\n",
        "org = pd.concat([a1, a2, a3, a4, a5], axis = 1)\n",
        "org"
      ],
      "metadata": {
        "colab": {
          "base_uri": "https://localhost:8080/",
          "height": 206
        },
        "id": "bZWM_JNxLnMo",
        "outputId": "b2814402-d1b6-4256-95c3-c8ae4ce3bf12"
      },
      "execution_count": null,
      "outputs": [
        {
          "output_type": "execute_result",
          "data": {
            "text/plain": [
              "       Traning Accuracy  Testing Accuracy  Precision Score  Recall Score  \\\n",
              "LR             0.966121          0.962332         0.959000      0.998958   \n",
              "DT             1.000000          0.966816         0.973333      0.988542   \n",
              "KNN            0.919901          0.905830         0.901408      1.000000   \n",
              "RF             1.000000          0.977578         0.975585      0.998958   \n",
              "STACK          0.999551          0.985650         0.986598      0.996875   \n",
              "\n",
              "       F1 Score  \n",
              "LR     0.978571  \n",
              "DT     0.980879  \n",
              "KNN    0.948148  \n",
              "RF     0.987133  \n",
              "STACK  0.991710  "
            ],
            "text/html": [
              "\n",
              "  <div id=\"df-4925ba74-e250-4e6f-a3c7-fb7affdceb87\" class=\"colab-df-container\">\n",
              "    <div>\n",
              "<style scoped>\n",
              "    .dataframe tbody tr th:only-of-type {\n",
              "        vertical-align: middle;\n",
              "    }\n",
              "\n",
              "    .dataframe tbody tr th {\n",
              "        vertical-align: top;\n",
              "    }\n",
              "\n",
              "    .dataframe thead th {\n",
              "        text-align: right;\n",
              "    }\n",
              "</style>\n",
              "<table border=\"1\" class=\"dataframe\">\n",
              "  <thead>\n",
              "    <tr style=\"text-align: right;\">\n",
              "      <th></th>\n",
              "      <th>Traning Accuracy</th>\n",
              "      <th>Testing Accuracy</th>\n",
              "      <th>Precision Score</th>\n",
              "      <th>Recall Score</th>\n",
              "      <th>F1 Score</th>\n",
              "    </tr>\n",
              "  </thead>\n",
              "  <tbody>\n",
              "    <tr>\n",
              "      <th>LR</th>\n",
              "      <td>0.966121</td>\n",
              "      <td>0.962332</td>\n",
              "      <td>0.959000</td>\n",
              "      <td>0.998958</td>\n",
              "      <td>0.978571</td>\n",
              "    </tr>\n",
              "    <tr>\n",
              "      <th>DT</th>\n",
              "      <td>1.000000</td>\n",
              "      <td>0.966816</td>\n",
              "      <td>0.973333</td>\n",
              "      <td>0.988542</td>\n",
              "      <td>0.980879</td>\n",
              "    </tr>\n",
              "    <tr>\n",
              "      <th>KNN</th>\n",
              "      <td>0.919901</td>\n",
              "      <td>0.905830</td>\n",
              "      <td>0.901408</td>\n",
              "      <td>1.000000</td>\n",
              "      <td>0.948148</td>\n",
              "    </tr>\n",
              "    <tr>\n",
              "      <th>RF</th>\n",
              "      <td>1.000000</td>\n",
              "      <td>0.977578</td>\n",
              "      <td>0.975585</td>\n",
              "      <td>0.998958</td>\n",
              "      <td>0.987133</td>\n",
              "    </tr>\n",
              "    <tr>\n",
              "      <th>STACK</th>\n",
              "      <td>0.999551</td>\n",
              "      <td>0.985650</td>\n",
              "      <td>0.986598</td>\n",
              "      <td>0.996875</td>\n",
              "      <td>0.991710</td>\n",
              "    </tr>\n",
              "  </tbody>\n",
              "</table>\n",
              "</div>\n",
              "    <div class=\"colab-df-buttons\">\n",
              "\n",
              "  <div class=\"colab-df-container\">\n",
              "    <button class=\"colab-df-convert\" onclick=\"convertToInteractive('df-4925ba74-e250-4e6f-a3c7-fb7affdceb87')\"\n",
              "            title=\"Convert this dataframe to an interactive table.\"\n",
              "            style=\"display:none;\">\n",
              "\n",
              "  <svg xmlns=\"http://www.w3.org/2000/svg\" height=\"24px\" viewBox=\"0 -960 960 960\">\n",
              "    <path d=\"M120-120v-720h720v720H120Zm60-500h600v-160H180v160Zm220 220h160v-160H400v160Zm0 220h160v-160H400v160ZM180-400h160v-160H180v160Zm440 0h160v-160H620v160ZM180-180h160v-160H180v160Zm440 0h160v-160H620v160Z\"/>\n",
              "  </svg>\n",
              "    </button>\n",
              "\n",
              "  <style>\n",
              "    .colab-df-container {\n",
              "      display:flex;\n",
              "      gap: 12px;\n",
              "    }\n",
              "\n",
              "    .colab-df-convert {\n",
              "      background-color: #E8F0FE;\n",
              "      border: none;\n",
              "      border-radius: 50%;\n",
              "      cursor: pointer;\n",
              "      display: none;\n",
              "      fill: #1967D2;\n",
              "      height: 32px;\n",
              "      padding: 0 0 0 0;\n",
              "      width: 32px;\n",
              "    }\n",
              "\n",
              "    .colab-df-convert:hover {\n",
              "      background-color: #E2EBFA;\n",
              "      box-shadow: 0px 1px 2px rgba(60, 64, 67, 0.3), 0px 1px 3px 1px rgba(60, 64, 67, 0.15);\n",
              "      fill: #174EA6;\n",
              "    }\n",
              "\n",
              "    .colab-df-buttons div {\n",
              "      margin-bottom: 4px;\n",
              "    }\n",
              "\n",
              "    [theme=dark] .colab-df-convert {\n",
              "      background-color: #3B4455;\n",
              "      fill: #D2E3FC;\n",
              "    }\n",
              "\n",
              "    [theme=dark] .colab-df-convert:hover {\n",
              "      background-color: #434B5C;\n",
              "      box-shadow: 0px 1px 3px 1px rgba(0, 0, 0, 0.15);\n",
              "      filter: drop-shadow(0px 1px 2px rgba(0, 0, 0, 0.3));\n",
              "      fill: #FFFFFF;\n",
              "    }\n",
              "  </style>\n",
              "\n",
              "    <script>\n",
              "      const buttonEl =\n",
              "        document.querySelector('#df-4925ba74-e250-4e6f-a3c7-fb7affdceb87 button.colab-df-convert');\n",
              "      buttonEl.style.display =\n",
              "        google.colab.kernel.accessAllowed ? 'block' : 'none';\n",
              "\n",
              "      async function convertToInteractive(key) {\n",
              "        const element = document.querySelector('#df-4925ba74-e250-4e6f-a3c7-fb7affdceb87');\n",
              "        const dataTable =\n",
              "          await google.colab.kernel.invokeFunction('convertToInteractive',\n",
              "                                                    [key], {});\n",
              "        if (!dataTable) return;\n",
              "\n",
              "        const docLinkHtml = 'Like what you see? Visit the ' +\n",
              "          '<a target=\"_blank\" href=https://colab.research.google.com/notebooks/data_table.ipynb>data table notebook</a>'\n",
              "          + ' to learn more about interactive tables.';\n",
              "        element.innerHTML = '';\n",
              "        dataTable['output_type'] = 'display_data';\n",
              "        await google.colab.output.renderOutput(dataTable, element);\n",
              "        const docLink = document.createElement('div');\n",
              "        docLink.innerHTML = docLinkHtml;\n",
              "        element.appendChild(docLink);\n",
              "      }\n",
              "    </script>\n",
              "  </div>\n",
              "\n",
              "\n",
              "<div id=\"df-0fce1db9-d924-4bbe-a1fc-61438ee70788\">\n",
              "  <button class=\"colab-df-quickchart\" onclick=\"quickchart('df-0fce1db9-d924-4bbe-a1fc-61438ee70788')\"\n",
              "            title=\"Suggest charts\"\n",
              "            style=\"display:none;\">\n",
              "\n",
              "<svg xmlns=\"http://www.w3.org/2000/svg\" height=\"24px\"viewBox=\"0 0 24 24\"\n",
              "     width=\"24px\">\n",
              "    <g>\n",
              "        <path d=\"M19 3H5c-1.1 0-2 .9-2 2v14c0 1.1.9 2 2 2h14c1.1 0 2-.9 2-2V5c0-1.1-.9-2-2-2zM9 17H7v-7h2v7zm4 0h-2V7h2v10zm4 0h-2v-4h2v4z\"/>\n",
              "    </g>\n",
              "</svg>\n",
              "  </button>\n",
              "\n",
              "<style>\n",
              "  .colab-df-quickchart {\n",
              "      --bg-color: #E8F0FE;\n",
              "      --fill-color: #1967D2;\n",
              "      --hover-bg-color: #E2EBFA;\n",
              "      --hover-fill-color: #174EA6;\n",
              "      --disabled-fill-color: #AAA;\n",
              "      --disabled-bg-color: #DDD;\n",
              "  }\n",
              "\n",
              "  [theme=dark] .colab-df-quickchart {\n",
              "      --bg-color: #3B4455;\n",
              "      --fill-color: #D2E3FC;\n",
              "      --hover-bg-color: #434B5C;\n",
              "      --hover-fill-color: #FFFFFF;\n",
              "      --disabled-bg-color: #3B4455;\n",
              "      --disabled-fill-color: #666;\n",
              "  }\n",
              "\n",
              "  .colab-df-quickchart {\n",
              "    background-color: var(--bg-color);\n",
              "    border: none;\n",
              "    border-radius: 50%;\n",
              "    cursor: pointer;\n",
              "    display: none;\n",
              "    fill: var(--fill-color);\n",
              "    height: 32px;\n",
              "    padding: 0;\n",
              "    width: 32px;\n",
              "  }\n",
              "\n",
              "  .colab-df-quickchart:hover {\n",
              "    background-color: var(--hover-bg-color);\n",
              "    box-shadow: 0 1px 2px rgba(60, 64, 67, 0.3), 0 1px 3px 1px rgba(60, 64, 67, 0.15);\n",
              "    fill: var(--button-hover-fill-color);\n",
              "  }\n",
              "\n",
              "  .colab-df-quickchart-complete:disabled,\n",
              "  .colab-df-quickchart-complete:disabled:hover {\n",
              "    background-color: var(--disabled-bg-color);\n",
              "    fill: var(--disabled-fill-color);\n",
              "    box-shadow: none;\n",
              "  }\n",
              "\n",
              "  .colab-df-spinner {\n",
              "    border: 2px solid var(--fill-color);\n",
              "    border-color: transparent;\n",
              "    border-bottom-color: var(--fill-color);\n",
              "    animation:\n",
              "      spin 1s steps(1) infinite;\n",
              "  }\n",
              "\n",
              "  @keyframes spin {\n",
              "    0% {\n",
              "      border-color: transparent;\n",
              "      border-bottom-color: var(--fill-color);\n",
              "      border-left-color: var(--fill-color);\n",
              "    }\n",
              "    20% {\n",
              "      border-color: transparent;\n",
              "      border-left-color: var(--fill-color);\n",
              "      border-top-color: var(--fill-color);\n",
              "    }\n",
              "    30% {\n",
              "      border-color: transparent;\n",
              "      border-left-color: var(--fill-color);\n",
              "      border-top-color: var(--fill-color);\n",
              "      border-right-color: var(--fill-color);\n",
              "    }\n",
              "    40% {\n",
              "      border-color: transparent;\n",
              "      border-right-color: var(--fill-color);\n",
              "      border-top-color: var(--fill-color);\n",
              "    }\n",
              "    60% {\n",
              "      border-color: transparent;\n",
              "      border-right-color: var(--fill-color);\n",
              "    }\n",
              "    80% {\n",
              "      border-color: transparent;\n",
              "      border-right-color: var(--fill-color);\n",
              "      border-bottom-color: var(--fill-color);\n",
              "    }\n",
              "    90% {\n",
              "      border-color: transparent;\n",
              "      border-bottom-color: var(--fill-color);\n",
              "    }\n",
              "  }\n",
              "</style>\n",
              "\n",
              "  <script>\n",
              "    async function quickchart(key) {\n",
              "      const quickchartButtonEl =\n",
              "        document.querySelector('#' + key + ' button');\n",
              "      quickchartButtonEl.disabled = true;  // To prevent multiple clicks.\n",
              "      quickchartButtonEl.classList.add('colab-df-spinner');\n",
              "      try {\n",
              "        const charts = await google.colab.kernel.invokeFunction(\n",
              "            'suggestCharts', [key], {});\n",
              "      } catch (error) {\n",
              "        console.error('Error during call to suggestCharts:', error);\n",
              "      }\n",
              "      quickchartButtonEl.classList.remove('colab-df-spinner');\n",
              "      quickchartButtonEl.classList.add('colab-df-quickchart-complete');\n",
              "    }\n",
              "    (() => {\n",
              "      let quickchartButtonEl =\n",
              "        document.querySelector('#df-0fce1db9-d924-4bbe-a1fc-61438ee70788 button');\n",
              "      quickchartButtonEl.style.display =\n",
              "        google.colab.kernel.accessAllowed ? 'block' : 'none';\n",
              "    })();\n",
              "  </script>\n",
              "</div>\n",
              "    </div>\n",
              "  </div>\n"
            ],
            "application/vnd.google.colaboratory.intrinsic+json": {
              "type": "dataframe",
              "variable_name": "org",
              "summary": "{\n  \"name\": \"org\",\n  \"rows\": 5,\n  \"fields\": [\n    {\n      \"column\": \"Traning Accuracy\",\n      \"properties\": {\n        \"dtype\": \"number\",\n        \"std\": 0.0351607624865258,\n        \"min\": 0.9199012788871438,\n        \"max\": 1.0,\n        \"num_unique_values\": 4,\n        \"samples\": [\n          1.0,\n          0.9995512676688355,\n          0.9661207089970832\n        ],\n        \"semantic_type\": \"\",\n        \"description\": \"\"\n      }\n    },\n    {\n      \"column\": \"Testing Accuracy\",\n      \"properties\": {\n        \"dtype\": \"number\",\n        \"std\": 0.03143494559340251,\n        \"min\": 0.905829596412556,\n        \"max\": 0.9856502242152466,\n        \"num_unique_values\": 5,\n        \"samples\": [\n          0.9668161434977578,\n          0.9856502242152466,\n          0.905829596412556\n        ],\n        \"semantic_type\": \"\",\n        \"description\": \"\"\n      }\n    },\n    {\n      \"column\": \"Precision Score\",\n      \"properties\": {\n        \"dtype\": \"number\",\n        \"std\": 0.03375931927677721,\n        \"min\": 0.9014084507042254,\n        \"max\": 0.98659793814433,\n        \"num_unique_values\": 5,\n        \"samples\": [\n          0.9733333333333334,\n          0.98659793814433,\n          0.9014084507042254\n        ],\n        \"semantic_type\": \"\",\n        \"description\": \"\"\n      }\n    },\n    {\n      \"column\": \"Recall Score\",\n      \"properties\": {\n        \"dtype\": \"number\",\n        \"std\": 0.004681709386300875,\n        \"min\": 0.9885416666666667,\n        \"max\": 1.0,\n        \"num_unique_values\": 4,\n        \"samples\": [\n          0.9885416666666667,\n          0.996875,\n          0.9989583333333333\n        ],\n        \"semantic_type\": \"\",\n        \"description\": \"\"\n      }\n    },\n    {\n      \"column\": \"F1 Score\",\n      \"properties\": {\n        \"dtype\": \"number\",\n        \"std\": 0.017092320925632815,\n        \"min\": 0.9481481481481481,\n        \"max\": 0.9917098445595856,\n        \"num_unique_values\": 5,\n        \"samples\": [\n          0.9808785529715762,\n          0.9917098445595856,\n          0.9481481481481481\n        ],\n        \"semantic_type\": \"\",\n        \"description\": \"\"\n      }\n    }\n  ]\n}"
            }
          },
          "metadata": {},
          "execution_count": 92
        }
      ]
    },
    {
      "cell_type": "code",
      "source": [
        "alg = ['LR','DT','KNN','RF','STACK']\n",
        "plt.plot(alg,a1)\n",
        "plt.plot(alg,a2)\n",
        "plt.plot(alg,a3)\n",
        "plt.plot(alg,a4)\n",
        "plt.plot(alg,a5)\n",
        "legend = ['Traning Accuracy', 'Testing Accuracy', 'Precision Score', 'Recall Score', 'F1 Score']\n",
        "plt.title(\"METRICS COMPARISION\")\n",
        "plt.legend(legend)\n",
        "plt.show()"
      ],
      "metadata": {
        "colab": {
          "base_uri": "https://localhost:8080/",
          "height": 452
        },
        "id": "kKoIXVt2Lp71",
        "outputId": "0b718903-b55b-4b16-983f-49c112a12738"
      },
      "execution_count": null,
      "outputs": [
        {
          "output_type": "display_data",
          "data": {
            "text/plain": [
              "<Figure size 640x480 with 1 Axes>"
            ],
            "image/png": "[encoded data removed]"
          },
          "metadata": {}
        }
      ]
    },
    {
      "cell_type": "code",
      "source": [
        "input_mail = [\"Hi this is  kalyan\"]\n",
        "\n",
        "input_mail_features = feature_extraction.transform(input_mail)\n",
        "\n",
        "prediction = stack.predict(input_mail_features)\n",
        "\n",
        "if(prediction == 0):\n",
        "    print(\"SPAM MAIL\")\n",
        "else:\n",
        "    print(\"HAM MAIL\")"
      ],
      "metadata": {
        "colab": {
          "base_uri": "https://localhost:8080/"
        },
        "id": "cWXunL7oLuhX",
        "outputId": "294eb1f7-ef2e-4fdc-e8c3-0675b32d1350"
      },
      "execution_count": null,
      "outputs": [
        {
          "output_type": "stream",
          "name": "stdout",
          "text": [
            "HAM MAIL\n"
          ]
        }
      ]
    },
    {
      "cell_type": "markdown",
      "source": [],
      "metadata": {
        "id": "30TvndmULkjo"
      }
    }
  ]
}